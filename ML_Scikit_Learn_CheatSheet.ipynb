{
  "cells": [
    {
      "cell_type": "markdown",
      "metadata": {
        "id": "view-in-github",
        "colab_type": "text"
      },
      "source": [
        "<a href=\"https://colab.research.google.com/github/AlirezaAhadipour/Scikit-Learn/blob/main/ML_Scikit_Learn_CheatSheet.ipynb\" target=\"_parent\"><img src=\"https://colab.research.google.com/assets/colab-badge.svg\" alt=\"Open In Colab\"/></a>"
      ]
    },
    {
      "cell_type": "markdown",
      "id": "e8f65d18",
      "metadata": {
        "id": "e8f65d18"
      },
      "source": [
        "# MACHINE LEARNING"
      ]
    },
    {
      "cell_type": "markdown",
      "id": "eb6398bd",
      "metadata": {
        "id": "eb6398bd"
      },
      "source": [
        "# Supervised Learning"
      ]
    },
    {
      "cell_type": "markdown",
      "id": "b26136d7",
      "metadata": {
        "id": "b26136d7"
      },
      "source": [
        "## Linear Regression"
      ]
    },
    {
      "cell_type": "code",
      "execution_count": null,
      "id": "0fc8b855",
      "metadata": {
        "id": "0fc8b855"
      },
      "outputs": [],
      "source": [
        "import pandas as pd\n",
        "import numpy as np\n",
        "import matplotlib.pyplot as plt\n",
        "\n",
        "from sklearn.model_selection import train_test_split\n",
        "from sklearn.linear_model import LinearRegression\n",
        "\n",
        "%matplotlib inline"
      ]
    },
    {
      "cell_type": "code",
      "execution_count": null,
      "id": "0e399db6",
      "metadata": {
        "id": "0e399db6"
      },
      "outputs": [],
      "source": [
        "X_train, X_test, y_train, y_test = train_test_split(X, y)\n",
        "model = LinearRegression(fit_intercept=True)\n",
        "\n",
        "model.fit(X_train, y_train)\n",
        "model.score(X_text, y_test)\n",
        "model.predict(X_test)\n",
        "\n",
        "model.coef_\n",
        "model.intercept_"
      ]
    },
    {
      "cell_type": "markdown",
      "id": "504676ed",
      "metadata": {
        "id": "504676ed"
      },
      "source": [
        "## Logistic Regression"
      ]
    },
    {
      "cell_type": "markdown",
      "id": "bb9d8b9a",
      "metadata": {
        "id": "bb9d8b9a"
      },
      "source": [
        "### Binary Classification"
      ]
    },
    {
      "cell_type": "code",
      "execution_count": null,
      "id": "cbc62102",
      "metadata": {
        "id": "cbc62102"
      },
      "outputs": [],
      "source": [
        "import pandas as pd\n",
        "import matplotlib.pyplot as plt\n",
        "import numpy as np\n",
        "\n",
        "from sklearn.model_selection import train_test_split\n",
        "from sklearn.linear_model import LogisticRegression\n",
        "from sklearn.preprocessing import StandardScaler\n",
        "\n",
        "%matplotlib inline"
      ]
    },
    {
      "cell_type": "code",
      "execution_count": null,
      "id": "c2b55726",
      "metadata": {
        "id": "c2b55726"
      },
      "outputs": [],
      "source": [
        "X_train, X_test, y_train, y_test = train_test_split(X, y)\n",
        "\n",
        "scaler = StandardScaler()\n",
        "scaler.fit(X_train)\n",
        "X_train = scaler.transform(X_train)\n",
        "X_test = scaler.transform(X_test)\n",
        "\n",
        "model = LogisticRegression()\n",
        "\n",
        "model.fit(X_train, y_train)\n",
        "model.score(X_text, y_test)\n",
        "model.predict(X_test)\n",
        "model.predict_proba(X_test)"
      ]
    },
    {
      "cell_type": "markdown",
      "id": "542d3e15",
      "metadata": {
        "id": "542d3e15"
      },
      "source": [
        "### One vs. All"
      ]
    },
    {
      "cell_type": "code",
      "execution_count": null,
      "id": "405474e2",
      "metadata": {
        "id": "405474e2"
      },
      "outputs": [],
      "source": [
        "X_train, X_test, y_train, y_test = train_test_split(X, y)\n",
        "\n",
        "scaler = StandardScaler()\n",
        "scaler.fit(X_train)\n",
        "X_train = scaler.transform(X_train)\n",
        "X_test = scaler.transform(X_test)\n",
        "\n",
        "model = LogisticRegression(solver = 'liblinear'\n",
        "                          multi_class = 'ovr')\n",
        "\n",
        "model.fit(X_train, y_train)\n",
        "model.score(X_text, y_test)\n",
        "model.predict(X_test)\n",
        "model.predict_proba(X_test)"
      ]
    },
    {
      "cell_type": "markdown",
      "id": "d3845dbd",
      "metadata": {
        "id": "d3845dbd"
      },
      "source": [
        "## Decision Tree"
      ]
    },
    {
      "cell_type": "code",
      "execution_count": null,
      "id": "17d91b0c",
      "metadata": {
        "id": "17d91b0c"
      },
      "outputs": [],
      "source": [
        "import pandas as pd\n",
        "import matplotlib.pyplot as plt\n",
        "import numpy as np\n",
        "\n",
        "from sklearn.model_selection import train_test_split\n",
        "from sklearn.tree import DecisionTreeClassifier\n",
        "\n",
        "from sklearn import tree\n",
        "\n",
        "%matplotlib inline"
      ]
    },
    {
      "cell_type": "code",
      "execution_count": null,
      "id": "76c35027",
      "metadata": {
        "id": "76c35027"
      },
      "outputs": [],
      "source": [
        "X_train, X_test, y_train, y_test = train_test_split(X, y)\n",
        "\n",
        "model = DecisionTreeClassifier(max_depth = 2)\n",
        "\n",
        "model.fit(X_train, y_train)\n",
        "model.score(X_text, y_test)\n",
        "model.predict(X_test)"
      ]
    },
    {
      "cell_type": "markdown",
      "id": "2ae08203",
      "metadata": {
        "id": "2ae08203"
      },
      "source": [
        "### Visualize Decision Tree"
      ]
    },
    {
      "cell_type": "code",
      "execution_count": null,
      "id": "1cdaa2a6",
      "metadata": {
        "id": "1cdaa2a6"
      },
      "outputs": [],
      "source": [
        "tree.plot_tree(model)"
      ]
    },
    {
      "cell_type": "markdown",
      "id": "854c2df4",
      "metadata": {
        "id": "854c2df4"
      },
      "source": [
        "## Bagged Tree"
      ]
    },
    {
      "cell_type": "code",
      "execution_count": null,
      "id": "c810478f",
      "metadata": {
        "id": "c810478f"
      },
      "outputs": [],
      "source": [
        "import pandas as pd\n",
        "import matplotlib.pyplot as plt\n",
        "import numpy as np\n",
        "\n",
        "from sklearn.model_selection import train_test_split\n",
        "from sklearn.ensemble import BaggingRegressor\n",
        "from sklearn.ensemble import BaggingClassifier\n",
        "\n",
        "%matplotlib inline"
      ]
    },
    {
      "cell_type": "code",
      "execution_count": null,
      "id": "0edc630f",
      "metadata": {
        "id": "0edc630f"
      },
      "outputs": [],
      "source": [
        "X_train, X_test, y_train, y_test = train_test_split(X, y)\n",
        "\n",
        "model = BaggingRegressor(n_estimators = 100)\n",
        "model = BaggingClassifier(n_estimators = 100)\n",
        "\n",
        "model.fit(X_train, y_train)\n",
        "model.score(X_text, y_test)\n",
        "model.predict(X_test)"
      ]
    },
    {
      "cell_type": "markdown",
      "id": "243899d3",
      "metadata": {
        "id": "243899d3"
      },
      "source": [
        "## Random Forest"
      ]
    },
    {
      "cell_type": "code",
      "execution_count": null,
      "id": "ec086389",
      "metadata": {
        "id": "ec086389"
      },
      "outputs": [],
      "source": [
        "import pandas as pd\n",
        "import matplotlib.pyplot as plt\n",
        "import numpy as np\n",
        "\n",
        "from sklearn.model_selection import train_test_split\n",
        "from sklearn.ensemble import RandomForestRegressor\n",
        "from sklearn.ensemble import RandomForestClassifier\n",
        "\n",
        "%matplotlib inline"
      ]
    },
    {
      "cell_type": "code",
      "execution_count": null,
      "id": "2d08dd69",
      "metadata": {
        "id": "2d08dd69"
      },
      "outputs": [],
      "source": [
        "X_train, X_test, y_train, y_test = train_test_split(X, y)\n",
        "\n",
        "model = RandomForestRegressor(n_estimators = 100)\n",
        "model = RandomForestClassifier(n_estimators = 100)\n",
        "\n",
        "model.fit(X_train, y_train)\n",
        "model.score(X_text, y_test)\n",
        "model.predict(X_test)"
      ]
    },
    {
      "cell_type": "markdown",
      "id": "13697764",
      "metadata": {
        "id": "13697764"
      },
      "source": [
        "# "
      ]
    },
    {
      "cell_type": "code",
      "source": [],
      "metadata": {
        "id": "M8D4rXYuPvHR"
      },
      "id": "M8D4rXYuPvHR",
      "execution_count": null,
      "outputs": []
    },
    {
      "cell_type": "markdown",
      "id": "93e72552",
      "metadata": {
        "id": "93e72552"
      },
      "source": [
        "# "
      ]
    },
    {
      "cell_type": "markdown",
      "id": "574230d4",
      "metadata": {
        "id": "574230d4"
      },
      "source": [
        "# Unsupervised Learning"
      ]
    },
    {
      "cell_type": "markdown",
      "id": "9c0deb73",
      "metadata": {
        "id": "9c0deb73"
      },
      "source": [
        "## K-Means"
      ]
    },
    {
      "cell_type": "code",
      "execution_count": null,
      "id": "9862d9f0",
      "metadata": {
        "id": "9862d9f0"
      },
      "outputs": [],
      "source": [
        "import pandas as pd\n",
        "import matplotlib.pyplot as plt\n",
        "import numpy as np\n",
        "\n",
        "from sklearn.model_selection import train_test_split\n",
        "from sklearn.preprocessing import StandardScaler\n",
        "from sklearn.cluster import KMeans\n",
        "\n",
        "%matplotlib inline"
      ]
    },
    {
      "cell_type": "code",
      "execution_count": null,
      "id": "7dbbfc14",
      "metadata": {
        "id": "7dbbfc14"
      },
      "outputs": [],
      "source": [
        "X = StandardScaler().fit_transform(X)\n",
        "\n",
        "model = KMeans(n_clusters = 3)\n",
        "model.fit(X)\n",
        "\n",
        "labels = model.labels_\n",
        "centroids = model.cluster_centers"
      ]
    },
    {
      "cell_type": "markdown",
      "id": "6f6f4fc7",
      "metadata": {
        "id": "6f6f4fc7"
      },
      "source": [
        "## PCA"
      ]
    },
    {
      "cell_type": "code",
      "execution_count": null,
      "id": "69cc91c9",
      "metadata": {
        "id": "69cc91c9"
      },
      "outputs": [],
      "source": [
        "import pandas as pd\n",
        "import matplotlib.pyplot as plt\n",
        "import numpy as np\n",
        "\n",
        "from sklearn.model_selection import train_test_split\n",
        "from sklearn.preprocessing import StandardScaler\n",
        "from sklearn.decomposition import PCA\n",
        "\n",
        "%matplotlib inline"
      ]
    },
    {
      "cell_type": "code",
      "execution_count": null,
      "id": "97977156",
      "metadata": {
        "id": "97977156"
      },
      "outputs": [],
      "source": [
        "X = StandardScaler().fit_transform(X)\n",
        "\n",
        "model = PCA(n_components = 0.9)\n",
        "model.fit_transform(X)"
      ]
    }
  ],
  "metadata": {
    "kernelspec": {
      "display_name": "Python 3 (ipykernel)",
      "language": "python",
      "name": "python3"
    },
    "language_info": {
      "codemirror_mode": {
        "name": "ipython",
        "version": 3
      },
      "file_extension": ".py",
      "mimetype": "text/x-python",
      "name": "python",
      "nbconvert_exporter": "python",
      "pygments_lexer": "ipython3",
      "version": "3.9.12"
    },
    "colab": {
      "provenance": [],
      "include_colab_link": true
    }
  },
  "nbformat": 4,
  "nbformat_minor": 5
}